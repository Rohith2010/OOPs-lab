{
  "nbformat": 4,
  "nbformat_minor": 0,
  "metadata": {
    "colab": {
      "provenance": [],
      "authorship_tag": "ABX9TyPps4RsTKB3+VZLr35noznO",
      "include_colab_link": true
    },
    "kernelspec": {
      "name": "python3",
      "display_name": "Python 3"
    },
    "language_info": {
      "name": "python"
    }
  },
  "cells": [
    {
      "cell_type": "markdown",
      "metadata": {
        "id": "view-in-github",
        "colab_type": "text"
      },
      "source": [
        "<a href=\"https://colab.research.google.com/github/Rohith2010/OOPs-lab/blob/main/OOP_Lab_3.ipynb\" target=\"_parent\"><img src=\"https://colab.research.google.com/assets/colab-badge.svg\" alt=\"Open In Colab\"/></a>"
      ]
    },
    {
      "cell_type": "code",
      "execution_count": null,
      "metadata": {
        "colab": {
          "base_uri": "https://localhost:8080/"
        },
        "id": "VEX0Qe7j4qvS",
        "outputId": "e6ad1680-d698-4081-fba7-9c1f6ec0cd90"
      },
      "outputs": [
        {
          "output_type": "stream",
          "name": "stdout",
          "text": [
            "employee name: sreenivas\n",
            "employee age: 25\n",
            "employee salary: 80000\n"
          ]
        }
      ],
      "source": [
        "class employee:\n",
        "  def __init__(self,name,age,salary):\n",
        "    self.name=name\n",
        "    self.age=age\n",
        "    self.salary=salary\n",
        "employee1=employee(\"sreenivas\",25,80000)\n",
        "print(\"employee name:\",employee1.name)\n",
        "print(\"employee age:\",employee1.age)\n",
        "print(\"employee salary:\",employee1.salary)"
      ]
    },
    {
      "cell_type": "code",
      "source": [
        "class student:\n",
        "  def __init__(self,name='sreenivas',age=25,grade='o'):\n",
        "    self.name=name\n",
        "    self.age=age\n",
        "    self.grade=grade\n",
        "student1=student()\n",
        "print(f\"student name: {student1.name}\")\n",
        "print(f\"student age: {student1.age}\")\n",
        "print(f\"student grade:{student1.grade}\")"
      ],
      "metadata": {
        "colab": {
          "base_uri": "https://localhost:8080/"
        },
        "id": "Ng_I2bGi9oC1",
        "outputId": "dcad9e7c-fb46-44b6-e88c-7d1322425b59"
      },
      "execution_count": null,
      "outputs": [
        {
          "output_type": "stream",
          "name": "stdout",
          "text": [
            "student name: sreenivas\n",
            "student age: 25\n",
            "student grade:o\n"
          ]
        }
      ]
    },
    {
      "cell_type": "code",
      "source": [
        "class rectangle:\n",
        "  def __init__(self,length,breadth):\n",
        "    self.length=length\n",
        "    self.breadth=breadth\n",
        "rectangle1=rectangle(5,10)\n",
        "print(\"rectangle length:\",rectangle1.length)\n",
        "print(\"rectangle breadth:\",rectangle1.breadth)"
      ],
      "metadata": {
        "colab": {
          "base_uri": "https://localhost:8080/"
        },
        "id": "kJUatc1Y-vGg",
        "outputId": "bf4da325-5aeb-44bd-c8e9-0275a3b30d60"
      },
      "execution_count": null,
      "outputs": [
        {
          "output_type": "stream",
          "name": "stdout",
          "text": [
            "rectangle length: 5\n",
            "rectangle breadth: 10\n"
          ]
        }
      ]
    },
    {
      "cell_type": "code",
      "source": [
        "class birthday_boy:\n",
        "  def __init__(self,name,age):\n",
        "    self.name=name\n",
        "    self.age=age\n",
        "  def birthday(self):\n",
        "    self.age+=1\n",
        "person=birthday_boy(name=\"john\",age=25)\n",
        "print(f\"{person.name} is {person.age} years old.\")\n",
        "person.birthday()\n",
        "print(f\"after the birthday,{person.name}is now {person.age} years old.\")"
      ],
      "metadata": {
        "colab": {
          "base_uri": "https://localhost:8080/"
        },
        "id": "7TXZAxtdAneD",
        "outputId": "55d00636-e996-42fe-d1c7-38eed02ccade"
      },
      "execution_count": null,
      "outputs": [
        {
          "output_type": "stream",
          "name": "stdout",
          "text": [
            "john is 25 years old.\n",
            "after the birthday,johnis now 26 years old.\n"
          ]
        }
      ]
    },
    {
      "cell_type": "code",
      "source": [
        "class song:\n",
        "  def __init__(self,lyrics):\n",
        "    self.lyrics=lyrics\n",
        "  def sing_me_a_song(self):\n",
        "    for i in self.lyrics:\n",
        "      print(i)\n",
        "happy_birthday=song([\"happy birthday to you\"])\n",
        "happy_birthday.sing_me_a_song()"
      ],
      "metadata": {
        "colab": {
          "base_uri": "https://localhost:8080/"
        },
        "id": "ScA5v6PRGN79",
        "outputId": "39220446-5f47-4ce9-f87e-0219cd52fa14"
      },
      "execution_count": 2,
      "outputs": [
        {
          "output_type": "stream",
          "name": "stdout",
          "text": [
            "happy birthday to you\n"
          ]
        }
      ]
    }
  ]
}