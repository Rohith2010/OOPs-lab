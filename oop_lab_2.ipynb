{
  "nbformat": 4,
  "nbformat_minor": 0,
  "metadata": {
    "colab": {
      "provenance": [],
      "authorship_tag": "ABX9TyPfeXSwbgj7x56a3RMnClLG",
      "include_colab_link": true
    },
    "kernelspec": {
      "name": "python3",
      "display_name": "Python 3"
    },
    "language_info": {
      "name": "python"
    }
  },
  "cells": [
    {
      "cell_type": "markdown",
      "metadata": {
        "id": "view-in-github",
        "colab_type": "text"
      },
      "source": [
        "<a href=\"https://colab.research.google.com/github/Rohith2010/OOPs-lab/blob/main/oop_lab_2.ipynb\" target=\"_parent\"><img src=\"https://colab.research.google.com/assets/colab-badge.svg\" alt=\"Open In Colab\"/></a>"
      ]
    },
    {
      "cell_type": "code",
      "execution_count": 3,
      "metadata": {
        "colab": {
          "base_uri": "https://localhost:8080/"
        },
        "id": "fC2cNd0W3U88",
        "outputId": "80133174-a30b-44ba-feb2-5a0430481128"
      },
      "outputs": [
        {
          "output_type": "stream",
          "name": "stdout",
          "text": [
            "sum = 5\n"
          ]
        }
      ],
      "source": [
        "#Write a python program using function to find the largest element in a list.\n",
        "def add_numbers(num1,num2):\n",
        "  sum=num1+num2\n",
        "  print('sum =',sum)\n",
        "add_numbers(2,3)"
      ]
    },
    {
      "cell_type": "code",
      "source": [
        "#write a program to find a largest number in a list\n",
        "numbers=[10,2,4,7,5]\n",
        "def largest_num(numbers):\n",
        "  print('largest number in the list =',max(numbers))\n",
        "largest_num(numbers)"
      ],
      "metadata": {
        "colab": {
          "base_uri": "https://localhost:8080/"
        },
        "id": "e_Lxm0WB5mI-",
        "outputId": "9a47f811-4407-4fc9-df58-4a4d6d2444ef"
      },
      "execution_count": 4,
      "outputs": [
        {
          "output_type": "stream",
          "name": "stdout",
          "text": [
            "largest number in the list = 10\n"
          ]
        }
      ]
    },
    {
      "cell_type": "code",
      "source": [
        "#Write a function called hexagon_area that takes the length of a side of a regular hexagon as a parameter and returns the area of the hexagon.\n",
        "import math\n",
        "def hex_area(side):\n",
        "  area=((3*math.sqrt(3))/2)*side**2\n",
        "  print('area of hexagon =',area)\n",
        "hex_area(5)"
      ],
      "metadata": {
        "colab": {
          "base_uri": "https://localhost:8080/"
        },
        "id": "RQiEZXIQ65wK",
        "outputId": "abcccb5d-8d34-4897-acfb-5bf0287dff22"
      },
      "execution_count": 6,
      "outputs": [
        {
          "output_type": "stream",
          "name": "stdout",
          "text": [
            "area of hexagon = 64.9519052838329\n"
          ]
        }
      ]
    },
    {
      "cell_type": "code",
      "source": [
        "#Write a function called is_valid_email  that takes an email address as an argument and returns True/False depending on whether it is a valid email address.\n",
        "import re\n",
        "\n",
        "def is_valid_email(email):\n",
        "    # Define a regular expression pattern for a valid email address\n",
        "    pattern = r'^[a-zA-Z0-9][a-zA-Z0-9._%+-]{0,63}@[a-zA-Z0-9.-]+\\.[a-zA-Z]{2,}$'\n",
        "\n",
        "    # Check if the email matches the pattern\n",
        "    if re.match(pattern, email) and len(email) <= 256:\n",
        "        return True\n",
        "    else:\n",
        "        return False\n",
        "\n",
        "# Example usage:\n",
        "email_address = \"sreenivas@gmail.com\"\n",
        "if is_valid_email(email_address):\n",
        "    print(f\"The email address {email_address} is valid.\")\n",
        "else:\n",
        "    print(f\"The email address {email_address} is not valid.\")\n"
      ],
      "metadata": {
        "colab": {
          "base_uri": "https://localhost:8080/"
        },
        "id": "-r2WwQFT-qVd",
        "outputId": "6d517f57-84d0-4791-9ece-d20444651ca6"
      },
      "execution_count": 12,
      "outputs": [
        {
          "output_type": "stream",
          "name": "stdout",
          "text": [
            "The email address sreenivas@gmail.com is valid.\n"
          ]
        }
      ]
    },
    {
      "cell_type": "code",
      "source": [
        "#Create a function called encrypt that takes some text(String) and a Shift(Integer)and then encrypts the text using the Caesar Cipher algorithm, returning the encrypted text.\n",
        "#Create a second function to decrypt an encrypted string, using the same input parameters and returning the decrypted text.\n",
        "def encrypt(text, shift):\n",
        "    encrypted_text = \"\"\n",
        "    for char in text:\n",
        "        if char.isalpha():\n",
        "            is_upper = char.isupper()\n",
        "            shifted_char = chr((ord(char) + shift - ord('A' if is_upper else 'a')) % 26 + ord('A' if is_upper else 'a'))\n",
        "\n",
        "            encrypted_text += shifted_char\n",
        "        else:\n",
        "            encrypted_text += char\n",
        "\n",
        "    return encrypted_text\n",
        "\n",
        "def decrypt(encrypted_text, shift):\n",
        "    return encrypt(encrypted_text, -shift)\n",
        "text_to_encrypt = \"Hello, World!\"\n",
        "shift_amount = 6\n",
        "encrypted_result = encrypt(text_to_encrypt, shift_amount)\n",
        "print(f\"Encrypted Text: {encrypted_result}\")\n",
        "decrypted_result = decrypt(encrypted_result, shift_amount)\n",
        "print(f\"Decrypted Text: {decrypted_result}\")\n"
      ],
      "metadata": {
        "colab": {
          "base_uri": "https://localhost:8080/"
        },
        "id": "Un9ZBcYl_5Rk",
        "outputId": "ab3dba18-9497-4608-f883-1166869fb164"
      },
      "execution_count": 10,
      "outputs": [
        {
          "output_type": "stream",
          "name": "stdout",
          "text": [
            "Encrypted Text: Nkrru, Cuxrj!\n",
            "Decrypted Text: Hello, World!\n"
          ]
        }
      ]
    },
    {
      "cell_type": "code",
      "source": [
        "#Create a function called get_palindromes that is given a string and returns a list of all the palindromes in the string.\n",
        "\n",
        "def is_palindrome(word):\n",
        "    return word == word[::-1]\n",
        "\n",
        "def get_palindromes(input_string):\n",
        "    words = input_string.split()\n",
        "\n",
        "    palindromes = [word for word in words if is_palindrome(word)]\n",
        "\n",
        "    return palindromes\n",
        "\n",
        "input_text = \"radar madam hello level civic\"\n",
        "result = get_palindromes(input_text)\n",
        "\n",
        "print(f\"Palindromes in the given string: {result}\")\n"
      ],
      "metadata": {
        "colab": {
          "base_uri": "https://localhost:8080/"
        },
        "id": "AwuGpDZaBM7z",
        "outputId": "edd90d72-6fa5-4926-d6ef-15b4a09ba869"
      },
      "execution_count": 11,
      "outputs": [
        {
          "output_type": "stream",
          "name": "stdout",
          "text": [
            "Palindromes in the given string: ['radar', 'madam', 'level', 'civic']\n"
          ]
        }
      ]
    }
  ]
}