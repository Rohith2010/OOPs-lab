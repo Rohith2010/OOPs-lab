{
  "nbformat": 4,
  "nbformat_minor": 0,
  "metadata": {
    "colab": {
      "provenance": [],
      "authorship_tag": "ABX9TyMWy0ejX+QxeQlsNQ0UqYbf",
      "include_colab_link": true
    },
    "kernelspec": {
      "name": "python3",
      "display_name": "Python 3"
    },
    "language_info": {
      "name": "python"
    }
  },
  "cells": [
    {
      "cell_type": "markdown",
      "metadata": {
        "id": "view-in-github",
        "colab_type": "text"
      },
      "source": [
        "<a href=\"https://colab.research.google.com/github/Rohith2010/OOPs-lab/blob/main/oop_lab_4.ipynb\" target=\"_parent\"><img src=\"https://colab.research.google.com/assets/colab-badge.svg\" alt=\"Open In Colab\"/></a>"
      ]
    },
    {
      "cell_type": "markdown",
      "source": [
        "Construct a class named Book featuring attributes like title, author, genre, and\n",
        "publication_year.Within the class, create a method called display_info to\n",
        "facilitate the printing of details regarding the book.\n",
        "Instantiate multiple objects of the Book class, each representing distinct books\n",
        "characterized by unique attribute values."
      ],
      "metadata": {
        "id": "w7K_fxDICl56"
      }
    },
    {
      "cell_type": "code",
      "source": [
        "class Book:\n",
        "    def __init__(self, title, author, genre, publication_year):\n",
        "        self.title = title\n",
        "        self.author = author\n",
        "        self.genre = genre\n",
        "        self.publication_year = publication_year\n",
        "\n",
        "    def display_info(self):\n",
        "        print(f\"Title: {self.title}\")\n",
        "        print(f\"Author: {self.author}\")\n",
        "        print(f\"Genre: {self.genre}\")\n",
        "        print(f\"Publication Year: {self.publication_year}\")\n",
        "        print(\"\\n\")\n",
        "\n",
        "# Instantiate multiple objects of the Book class\n",
        "book1 = Book(\"The Catcher in the Rye\", \"J.D. Salinger\", \"Fiction\", 1951)\n",
        "book2 = Book(\"Harry Potter\", \"J.K.Rowling\", \"Fiction\", 1960)\n",
        "book3 = Book(\"1984\", \"George Orwell\", \"Dystopian\", 1949)\n",
        "\n",
        "# Call the display_info method for each book\n",
        "book1.display_info()\n",
        "book2.display_info()\n",
        "book3.display_info()"
      ],
      "metadata": {
        "colab": {
          "base_uri": "https://localhost:8080/"
        },
        "id": "Iqs72Ke8Cxhw",
        "outputId": "68b64695-d038-4b45-f2f2-10bb0b278816"
      },
      "execution_count": null,
      "outputs": [
        {
          "output_type": "stream",
          "name": "stdout",
          "text": [
            "Title: The Catcher in the Rye\n",
            "Author: J.D. Salinger\n",
            "Genre: Fiction\n",
            "Publication Year: 1951\n",
            "\n",
            "\n",
            "Title: Harry Potter\n",
            "Author: J.K.Rowling\n",
            "Genre: Fiction\n",
            "Publication Year: 1960\n",
            "\n",
            "\n",
            "Title: 1984\n",
            "Author: George Orwell\n",
            "Genre: Dystopian\n",
            "Publication Year: 1949\n",
            "\n",
            "\n"
          ]
        }
      ]
    },
    {
      "cell_type": "markdown",
      "source": [
        "Design a class named MovieTicket to facilitate movie ticket bookings. The class\n",
        "should have the following attributes: movie_name, show_time, ticket_price, and\n",
        "number_of_tickets_available. Implement the following methods:\n",
        "\n",
        "a)Book_tickets:- Allow users to book a specified number of movie tickets. Update\n",
        "the number_of_tickets_available attribute and return a confirmation message if the booking is successful, or an error message if there are not enough tickets available.\n",
        "\n",
        "b)calculate_total_cost- Calculate and return the total cost of the specified number of tickets based on the ticket_price.\n",
        "\n",
        "c)Display_movie_info: Display information about the movie, including its name,\n",
        "show time, ticket price, and the number of available tickets."
      ],
      "metadata": {
        "id": "5dGkbtajDi-J"
      }
    },
    {
      "cell_type": "code",
      "source": [
        "class Movie:\n",
        "    def __init__(self, name, show_time, ticket_price, total_tickets):\n",
        "        self.name = name\n",
        "        self.show_time = show_time\n",
        "        self.ticket_price = ticket_price\n",
        "        self.total_tickets = total_tickets\n",
        "        self.number_of_tickets_available = total_tickets\n",
        "\n",
        "    def book_tickets(self, num_tickets):\n",
        "        if num_tickets <= self.number_of_tickets_available:\n",
        "            self.number_of_tickets_available -= num_tickets\n",
        "            return f\"Booking successful! {num_tickets} tickets booked for {self.name}.\"\n",
        "        else:\n",
        "            return f\"Sorry, not enough tickets available for {self.name}.\"\n",
        "\n",
        "    def calculate_total_cost(self, num_tickets):\n",
        "        return num_tickets * self.ticket_price\n",
        "\n",
        "    def display_movie_info(self):\n",
        "        print(f\"Movie: {self.name}\")\n",
        "        print(f\"Show Time: {self.show_time}\")\n",
        "        print(f\"Ticket Price: {rupee_symbol_chr}{self.ticket_price}\")\n",
        "        print(f\"Number of Available Tickets: {self.number_of_tickets_available}\\n\")\n",
        "\n",
        "\n",
        "rupee_symbol_chr = chr(8377)\n",
        "movie1 = Movie(\"Inception\", \"18:00\", 10, 50)\n",
        "movie1.display_movie_info()\n",
        "num_tickets_to_book = 3\n",
        "booking_confirmation = movie1.book_tickets(num_tickets_to_book)\n",
        "print(booking_confirmation)\n",
        "movie1.display_movie_info()\n",
        "total_cost = movie1.calculate_total_cost(num_tickets_to_book)\n",
        "print(f\"Total Cost: {rupee_symbol_chr}{total_cost}\")"
      ],
      "metadata": {
        "colab": {
          "base_uri": "https://localhost:8080/"
        },
        "id": "htk-sAP0Dn74",
        "outputId": "ba909e22-e3e5-4872-887c-69127524397f"
      },
      "execution_count": null,
      "outputs": [
        {
          "output_type": "stream",
          "name": "stdout",
          "text": [
            "Movie: Inception\n",
            "Show Time: 18:00\n",
            "Ticket Price: ₹10\n",
            "Number of Available Tickets: 50\n",
            "\n",
            "Booking successful! 3 tickets booked for Inception.\n",
            "Movie: Inception\n",
            "Show Time: 18:00\n",
            "Ticket Price: ₹10\n",
            "Number of Available Tickets: 47\n",
            "\n",
            "Total Cost: ₹30\n"
          ]
        }
      ]
    },
    {
      "cell_type": "markdown",
      "source": [
        "3)Create an Employee class by defining employee attributes such as name and salary as an instance variable and implementing behaviour using work() and\n",
        "show() instance methods. Make salary as private variable."
      ],
      "metadata": {
        "id": "ut2rCJz6E9fp"
      }
    },
    {
      "cell_type": "code",
      "source": [
        "class Employee:\n",
        "    def __init__(self, name, salary):\n",
        "        self.name = name\n",
        "        self.__salary = salary\n",
        "\n",
        "    def work(self):\n",
        "        print(f\"{self.name} is working\")\n",
        "\n",
        "    def show(self):\n",
        "        print(f\"Employee Name: {self.name}\")\n",
        "        print(f\"Salary: {rupee_symbol_chr}{self.__salary}\\n\")\n",
        "\n",
        "rupee_symbol_chr = chr(8377)\n",
        "employee1 = Employee(\"Rohith\", 100000)\n",
        "employee1.work()\n",
        "employee1.show()"
      ],
      "metadata": {
        "colab": {
          "base_uri": "https://localhost:8080/"
        },
        "id": "4ZfQ49GZFTiY",
        "outputId": "c34f93f9-c823-47f5-c7cf-8265d6c50f39"
      },
      "execution_count": null,
      "outputs": [
        {
          "output_type": "stream",
          "name": "stdout",
          "text": [
            "Rohith is working\n",
            "Employee Name: Rohith\n",
            "Salary: ₹100000\n",
            "\n"
          ]
        }
      ]
    },
    {
      "cell_type": "markdown",
      "source": [
        "Create a class called as CreditCard, make limit variable completely private to the outside of the class and balance should be accessible outside the class, but not modifiable, since we don’t want external code to arbitrarily modify the credit card balance. To achieve this, make a get_balance() field public, however balance can only be modified via withdraw() and deposit() methods that have safeguard checks in place."
      ],
      "metadata": {
        "id": "eDLWH76XHC9o"
      }
    },
    {
      "cell_type": "code",
      "source": [
        "class CreditCard:\n",
        "    def __init__(self, limit):\n",
        "        self.__limit = limit\n",
        "        self.__balance = 0\n",
        "\n",
        "    def get_balance(self):\n",
        "        return self.__balance\n",
        "\n",
        "    def deposit(self, amount):\n",
        "        if amount > 0:\n",
        "            self.__balance += amount\n",
        "            print(f\"Deposited: {rupee_symbol_chr}{amount} \\nNew balance: {rupee_symbol_chr}{self.__balance}\")\n",
        "        else:\n",
        "            print(\"Invalid deposit amount. Please deposit a positive amount.\")\n",
        "\n",
        "    def withdraw(self, amount):\n",
        "        if amount > 0:\n",
        "            if amount <= self.__balance:\n",
        "                self.__balance -= amount\n",
        "                print(f\"Withdrew: {rupee_symbol_chr}{amount} \\nNew balance: {rupee_symbol_chr}{self.__balance}\")\n",
        "            else:\n",
        "                print(\"Insufficient funds. Withdrawal denied.\")\n",
        "        else:\n",
        "            print(\"Invalid withdrawal amount. Please withdraw a positive amount.\")\n",
        "rupee_symbol_chr = chr(8377)\n",
        "credit_card = CreditCard(limit=1000)\n",
        "\n",
        "current_balance = credit_card.get_balance()\n",
        "print(f\"Current Balance: {rupee_symbol_chr}{current_balance}\")\n",
        "\n",
        "credit_card.deposit(200)\n",
        "credit_card.withdraw(50)\n",
        "\n",
        "current_balance = credit_card.get_balance()\n",
        "print(f\"Final Balance: {rupee_symbol_chr}{current_balance}\")"
      ],
      "metadata": {
        "colab": {
          "base_uri": "https://localhost:8080/"
        },
        "id": "UuxRhk5uHQAX",
        "outputId": "cfa88e07-6d7a-4352-e9d1-d1dd965ece40"
      },
      "execution_count": null,
      "outputs": [
        {
          "output_type": "stream",
          "name": "stdout",
          "text": [
            "Current Balance: ₹0\n",
            "Deposited: ₹200 \n",
            "New balance: ₹200\n",
            "Withdrew: ₹50 \n",
            "New balance: ₹150\n",
            "Final Balance: ₹150\n"
          ]
        }
      ]
    },
    {
      "cell_type": "markdown",
      "source": [
        "5)Develop a Product class with attributes product_id, product_name product_price by creation of objects and invoking following methods:\n",
        "\n",
        "a)The apply_discount method calculates the discounted price based on the given discount percentage.\n",
        "\n",
        "b)The is_expensive method checks if the product price exceeds a specified\n",
        "threshold.\n",
        "\n",
        "c)The display_product_info method is utilized to print information about the product."
      ],
      "metadata": {
        "id": "3K3I4r_4Iat3"
      }
    },
    {
      "cell_type": "code",
      "source": [
        "class Product:\n",
        "    def __init__(self, product_id, product_name, product_price):\n",
        "        self.product_id = product_id\n",
        "        self.product_name = product_name\n",
        "        self.product_price = product_price\n",
        "\n",
        "    def apply_discount(self, discount_percentage):\n",
        "        discounted_price = self.product_price - (self.product_price * discount_percentage / 100)\n",
        "        return discounted_price\n",
        "\n",
        "    def is_expensive(self, threshold_price):\n",
        "        return self.product_price > threshold_price\n",
        "\n",
        "    def display_product_info(self):\n",
        "        print(f\"Product ID: {self.product_id}\")\n",
        "        print(f\"Product Name: {self.product_name}\")\n",
        "        print(f\"Product Price: {rupee_symbol_chr}{self.product_price}\\n\")\n",
        "\n",
        "product1 = Product(product_id=1, product_name=\"Mac_Book pro\", product_price=1200)\n",
        "\n",
        "product1.display_product_info()\n",
        "\n",
        "discounted_price = product1.apply_discount(5)\n",
        "rupee_symbol_chr = chr(8377)\n",
        "print(f\"Discounted Price: {rupee_symbol_chr}{discounted_price}\\n\")\n",
        "\n",
        "threshold_price = 1000\n",
        "expensive_status = product1.is_expensive(threshold_price)\n",
        "print(f\"Is the product expensive? {'Yes' if expensive_status else 'No'}\\n\")\n",
        "\n",
        "product2 = Product(product_id=2, product_name=\"MI Laptop\", product_price=800)\n",
        "\n",
        "product2.display_product_info()\n",
        "\n",
        "discounted_price = product2.apply_discount(10)\n",
        "print(f\"Discounted Price: {rupee_symbol_chr}{discounted_price}\\n\")\n",
        "\n",
        "threshold_price = 1000\n",
        "expensive_status = product2.is_expensive(threshold_price)\n",
        "print(f\"Is the product expensive? {'Yes' if expensive_status else 'No'}\")"
      ],
      "metadata": {
        "colab": {
          "base_uri": "https://localhost:8080/"
        },
        "id": "3-ASlG-gIvGL",
        "outputId": "c5fb8f11-d89e-420e-addf-db82b61f6a2b"
      },
      "execution_count": null,
      "outputs": [
        {
          "output_type": "stream",
          "name": "stdout",
          "text": [
            "Product ID: 1\n",
            "Product Name: Mac_Book pro\n",
            "Product Price: ₹1200\n",
            "\n",
            "Discounted Price: ₹1140.0\n",
            "\n",
            "Is the product expensive? Yes\n",
            "\n",
            "Product ID: 2\n",
            "Product Name: MI Laptop\n",
            "Product Price: ₹800\n",
            "\n",
            "Discounted Price: ₹720.0\n",
            "\n",
            "Is the product expensive? No\n"
          ]
        }
      ]
    },
    {
      "cell_type": "markdown",
      "source": [
        "Create a class expensive car with data members price, speed, mileage and model and color and functions break, speed,start, stop. Create 3 objects."
      ],
      "metadata": {
        "id": "MXWqAk8uTvPT"
      }
    },
    {
      "cell_type": "code",
      "source": [
        "class ExpensiveCar:\n",
        "    def __init__(self, price, speed, mileage, model, color):\n",
        "        self.price = price\n",
        "        self.speed = speed\n",
        "        self.mileage = mileage\n",
        "        self.model = model\n",
        "        self.color = color\n",
        "        self.is_running = False\n",
        "\n",
        "    def start(self):\n",
        "        if not self.is_running:\n",
        "            self.is_running = True\n",
        "            return \"Car started.\"\n",
        "        else:\n",
        "            return \"Car is already running.\"\n",
        "\n",
        "    def stop(self):\n",
        "        if self.is_running:\n",
        "            self.is_running = False\n",
        "            return \"Car stopped.\"\n",
        "        else:\n",
        "            return \"Car is already stopped.\"\n",
        "\n",
        "    def break_car(self):\n",
        "        if self.is_running:\n",
        "            return \"Car is slowing down.\"\n",
        "        else:\n",
        "            return \"Car is already stopped.\"\n",
        "    def show(self):\n",
        "        print(f\"price:{self.price}\")\n",
        "        print(f\"speed : {self.speed}\")\n",
        "        print(f\"mileage :{self.mileage}\")\n",
        "        print(f\"model :{self.model}\")\n",
        "        print(f\"color : {self.color}\\n\")\n",
        "# Creating three instances of ExpensiveCar class\n",
        "car1 = ExpensiveCar(100000, 200, 15, \"XYZ\", \"Red\")\n",
        "car2 = ExpensiveCar(120000, 220, 12, \"ABC\", \"Black\")\n",
        "car3 = ExpensiveCar(150000, 250, 10, \"LMN\", \"Blue\")\n",
        "\n",
        "car1.show()\n",
        "\n",
        "car2.show()\n",
        "\n",
        "car3.show()\n",
        "# Performing actions on the cars\n",
        "print(car1.start())\n",
        "print(car1.break_car())\n",
        "print(car1.stop())\n",
        "\n",
        "print(car2.start())\n",
        "print(car2.break_car())\n",
        "print(car2.stop())\n",
        "\n",
        "print(car3.start())\n",
        "print(car3.break_car())\n",
        "print(car3.stop())"
      ],
      "metadata": {
        "colab": {
          "base_uri": "https://localhost:8080/"
        },
        "id": "9duzrvbjWTjS",
        "outputId": "bfaab0ff-69d8-4217-9008-5e1f060b4e05"
      },
      "execution_count": null,
      "outputs": [
        {
          "output_type": "stream",
          "name": "stdout",
          "text": [
            "price:100000\n",
            "speed : 200\n",
            "mileage :15\n",
            "model :XYZ\n",
            "color : Red\n",
            "\n",
            "price:120000\n",
            "speed : 220\n",
            "mileage :12\n",
            "model :ABC\n",
            "color : Black\n",
            "\n",
            "price:150000\n",
            "speed : 250\n",
            "mileage :10\n",
            "model :LMN\n",
            "color : Blue\n",
            "\n",
            "Car started.\n",
            "Car is slowing down.\n",
            "Car stopped.\n",
            "Car started.\n",
            "Car is slowing down.\n",
            "Car stopped.\n",
            "Car started.\n",
            "Car is slowing down.\n",
            "Car stopped.\n"
          ]
        }
      ]
    }
  ]
}